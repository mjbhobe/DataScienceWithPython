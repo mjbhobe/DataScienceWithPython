{
 "cells": [
  {
   "cell_type": "code",
   "execution_count": 3,
   "metadata": {},
   "outputs": [],
   "source": [
    "import os, random\n",
    "import pathlib\n",
    "\n",
    "import numpy as np\n",
    "import pandas as pd\n",
    "import scipy.stats as stats\n",
    "import matplotlib.pyplot as plt\n",
    "import seaborn as sns\n",
    "\n",
    "SEED = 41\n",
    "random.seed(SEED)\n",
    "np.random.seed(SEED)\n",
    "\n",
    "%matplotlib inline"
   ]
  },
  {
   "cell_type": "code",
   "execution_count": 4,
   "metadata": {},
   "outputs": [],
   "source": [
    "# my custom color palette\n",
    "COLORS = [\"#64E6FF\", \"#007DC5\", \"#4D2F9E\", \"#BE0046\", \"#EB5000\", \"#FFE600\"]\n",
    "sns.set_palette(sns.color_palette(COLORS))"
   ]
  },
  {
   "cell_type": "code",
   "execution_count": 6,
   "metadata": {},
   "outputs": [
    {
     "name": "stdout",
     "output_type": "stream",
     "text": [
      "Data sample (first 20): [10 27 11 18 28 38 17 42 27 31 23 21 10 39 24 36 29 34 29 45]\n",
      "Mean: 28.220\n"
     ]
    }
   ],
   "source": [
    "# calculating mean of a dataset\n",
    "data = np.random.randint(10, 50, 100) # generate 100 random numbers between 10 & 50\n",
    "print(f\"Data sample (first 20): {data[:20]}\")\n",
    "# calculate the mean\n",
    "mean = np.mean(data)\n",
    "print(f\"Mean: {mean:.3f}\")"
   ]
  },
  {
   "cell_type": "code",
   "execution_count": 9,
   "metadata": {},
   "outputs": [
    {
     "name": "stdout",
     "output_type": "stream",
     "text": [
      "Trimmed mean: 28.025\n"
     ]
    }
   ],
   "source": [
    "# calculate trimmed mean (using scipy.stats)\n",
    "trimmed_mean = stats.trim_mean(data, 0.10)  # drop top & bottom 10% (0.1) of data\n",
    "print(f\"Trimmed mean: {trimmed_mean:.3f}\")"
   ]
  },
  {
   "cell_type": "code",
   "execution_count": 11,
   "metadata": {},
   "outputs": [
    {
     "name": "stdout",
     "output_type": "stream",
     "text": [
      "Median: 27.000\n"
     ]
    }
   ],
   "source": [
    "# calculating median of a dataset\n",
    "data = np.random.randint(10, 50, 100) # generate 100 random numbers between 10 & 50\n",
    "median = np.median(data)\n",
    "print(f\"Median: {median:.3f}\")"
   ]
  },
  {
   "cell_type": "code",
   "execution_count": 14,
   "metadata": {},
   "outputs": [
    {
     "name": "stdout",
     "output_type": "stream",
     "text": [
      "Mode: [27] (occurs [6] times)\n"
     ]
    }
   ],
   "source": [
    "# calculate the mode\n",
    "data = np.random.randint(10, 50, 100) # generate 100 random numbers between 10 & 50\n",
    "print(f\"Data sample (first 20): {data[:20]}\")\n",
    "\n",
    "mode = stats.mode(data, keepdims=True)\n",
    "print(f\"Mode: {mode[0]} (occurs {mode[1]} times)\")"
   ]
  },
  {
   "cell_type": "code",
   "execution_count": null,
   "metadata": {},
   "outputs": [],
   "source": []
  },
  {
   "cell_type": "code",
   "execution_count": null,
   "metadata": {},
   "outputs": [],
   "source": []
  },
  {
   "cell_type": "code",
   "execution_count": null,
   "metadata": {},
   "outputs": [],
   "source": []
  },
  {
   "cell_type": "code",
   "execution_count": null,
   "metadata": {},
   "outputs": [],
   "source": []
  },
  {
   "cell_type": "code",
   "execution_count": null,
   "metadata": {},
   "outputs": [],
   "source": []
  },
  {
   "cell_type": "code",
   "execution_count": null,
   "metadata": {},
   "outputs": [],
   "source": []
  },
  {
   "cell_type": "code",
   "execution_count": null,
   "metadata": {},
   "outputs": [],
   "source": []
  },
  {
   "cell_type": "code",
   "execution_count": null,
   "metadata": {},
   "outputs": [],
   "source": []
  },
  {
   "cell_type": "code",
   "execution_count": null,
   "metadata": {},
   "outputs": [],
   "source": []
  },
  {
   "cell_type": "code",
   "execution_count": null,
   "metadata": {},
   "outputs": [],
   "source": []
  },
  {
   "cell_type": "code",
   "execution_count": null,
   "metadata": {},
   "outputs": [],
   "source": []
  },
  {
   "cell_type": "code",
   "execution_count": null,
   "metadata": {},
   "outputs": [],
   "source": []
  }
 ],
 "metadata": {
  "kernelspec": {
   "display_name": "Python 3",
   "language": "python",
   "name": "python3"
  },
  "language_info": {
   "codemirror_mode": {
    "name": "ipython",
    "version": 3
   },
   "file_extension": ".py",
   "mimetype": "text/x-python",
   "name": "python",
   "nbconvert_exporter": "python",
   "pygments_lexer": "ipython3",
   "version": "3.10.9"
  },
  "orig_nbformat": 4,
  "vscode": {
   "interpreter": {
    "hash": "ecc02ce5e6977bb99cd707e09baad61c63a36bcbb47f88a7e8365a0289b10cbe"
   }
  }
 },
 "nbformat": 4,
 "nbformat_minor": 2
}
