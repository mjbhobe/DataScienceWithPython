{
 "cells": [
  {
   "cell_type": "code",
   "execution_count": 1,
   "metadata": {},
   "outputs": [],
   "source": [
    "import os, random\n",
    "import pathlib\n",
    "\n",
    "import numpy as np\n",
    "import pandas as pd\n",
    "import scipy.stats as stats\n",
    "import matplotlib.pyplot as plt\n",
    "import seaborn as sns\n",
    "\n",
    "SEED = 41\n",
    "random.seed(SEED)\n",
    "np.random.seed(SEED)\n",
    "\n",
    "%matplotlib inline"
   ]
  },
  {
   "cell_type": "code",
   "execution_count": 2,
   "metadata": {},
   "outputs": [],
   "source": [
    "# my custom color palette\n",
    "COLORS = [\"#64E6FF\", \"#007DC5\", \"#4D2F9E\", \"#BE0046\", \"#EB5000\", \"#FFE600\"]\n",
    "sns.set_palette(sns.color_palette(COLORS))"
   ]
  },
  {
   "cell_type": "code",
   "execution_count": 3,
   "metadata": {},
   "outputs": [
    {
     "name": "stdout",
     "output_type": "stream",
     "text": [
      "Data sample (first 20): [10 45 22 44 26 11 35 33 31 36 13 45 16 30 32 38 34 21 38 27]\n",
      "Mean: 29.380\n"
     ]
    }
   ],
   "source": [
    "# calculating mean of a dataset\n",
    "data = np.random.randint(10, 50, 100)  # generate 100 random numbers between 10 & 50\n",
    "print(f\"Data sample (first 20): {data[:20]}\")\n",
    "# calculate the mean\n",
    "mean = np.mean(data)\n",
    "print(f\"Mean: {mean:.3f}\")"
   ]
  },
  {
   "cell_type": "code",
   "execution_count": 4,
   "metadata": {},
   "outputs": [
    {
     "name": "stdout",
     "output_type": "stream",
     "text": [
      "Trimmed mean: 29.438\n"
     ]
    }
   ],
   "source": [
    "# calculate trimmed mean (using scipy.stats)\n",
    "trimmed_mean = stats.trim_mean(data, 0.10)  # drop top & bottom 10% (0.1) of data\n",
    "print(f\"Trimmed mean: {trimmed_mean:.3f}\")"
   ]
  },
  {
   "cell_type": "code",
   "execution_count": 5,
   "metadata": {},
   "outputs": [
    {
     "name": "stdout",
     "output_type": "stream",
     "text": [
      "Median: 27.000\n"
     ]
    }
   ],
   "source": [
    "# calculating median of a dataset\n",
    "data = np.random.randint(10, 50, 100)  # generate 100 random numbers between 10 & 50\n",
    "median = np.median(data)\n",
    "print(f\"Median: {median:.3f}\")"
   ]
  },
  {
   "cell_type": "code",
   "execution_count": 6,
   "metadata": {},
   "outputs": [
    {
     "name": "stdout",
     "output_type": "stream",
     "text": [
      "Data sample (first 20): [43 35 44 18 46 38 44 11 22 14 25 41 39 12 29 49 36 29 37 41]\n",
      "Mode: [17] (occurs [6] times)\n"
     ]
    }
   ],
   "source": [
    "# calculate the mode\n",
    "data = np.random.randint(10, 50, 100)  # generate 100 random numbers between 10 & 50\n",
    "print(f\"Data sample (first 20): {data[:20]}\")\n",
    "\n",
    "mode = stats.mode(data, keepdims=True)\n",
    "print(f\"Mode: {mode[0]} (occurs {mode[1]} times)\")"
   ]
  },
  {
   "cell_type": "code",
   "execution_count": 8,
   "metadata": {},
   "outputs": [
    {
     "name": "stdout",
     "output_type": "stream",
     "text": [
      "Data sample (first 20): [24 27 24 13 45 36 14 33 13 41 28 27 28 33 28 48 33 30 21 29]\n",
      "Kurtosos (Fisher): -1.018 - Kurtosos (Pearson): 1.982\n"
     ]
    }
   ],
   "source": [
    "# calculate Kurtosis\n",
    "data = np.random.randint(10, 50, 100)  # generate 100 random numbers between 10 & 50\n",
    "print(f\"Data sample (first 20): {data[:20]}\")\n",
    "\n",
    "# kurtosis using Fisher definition (default)\n",
    "kf = stats.kurtosis(data, fisher=True)\n",
    "# kurtosis using Pearson's definition\n",
    "kp = stats.kurtosis(data, fisher=False)\n",
    "print(f\"Kurtosos (Fisher): {kf:.3f} - Kurtosos (Pearson): {kp:.3f}\")"
   ]
  },
  {
   "cell_type": "code",
   "execution_count": 10,
   "metadata": {},
   "outputs": [
    {
     "name": "stdout",
     "output_type": "stream",
     "text": [
      "Data sample (first 20): [27 35 41 23 47 27 39 29 46 45 30 15 37 42 36 32 32 41 19 14]\n",
      "Mean: 31.210 - stdev: 11.518\n",
      "z_scores (first 20): [-0.36551268  0.32904823  0.84996891 -0.71279313  1.37088958 -0.36551268\n",
      "  0.67632868 -0.19187245  1.28406947  1.19724936 -0.10505234 -1.40735403\n",
      "  0.50268845  0.93678902  0.41586834  0.06858789  0.06858789  0.84996891\n",
      " -1.06007358 -1.49417414]\n"
     ]
    }
   ],
   "source": [
    "# calculate z-scores\n",
    "data = np.random.randint(10, 50, 100)  # generate 100 random numbers between 10 & 50\n",
    "print(f\"Data sample (first 20): {data[:20]}\")\n",
    "\n",
    "# calculate\n",
    "x_bar, std = np.mean(data), np.std(data)\n",
    "print(f\"Mean: {x_bar:.3f} - stdev: {std:.3f}\")\n",
    "# calculate the z-scores\n",
    "z_scores = (data - x_bar) / std\n",
    "print(f\"z_scores (first 20): {z_scores[:20]}\")"
   ]
  },
  {
   "cell_type": "code",
   "execution_count": 15,
   "metadata": {},
   "outputs": [
    {
     "name": "stdout",
     "output_type": "stream",
     "text": [
      "Data (sorted) [11, 12, 15, 16, 18, 18, 19, 20, 22, 22, 23, 24, 27, 27, 31, 31, 41, 43, 47, 48]\n",
      "Five number summary: (11, 18.0, 22.5, 31.0, 48, -8.5, 67.5)\n"
     ]
    }
   ],
   "source": [
    "def five_num_summary(data: np.ndarray):\n",
    "    mini = np.min(data)\n",
    "    q1 = np.quantile(data, 0.25)\n",
    "    median = np.quantile(data, 0.50)\n",
    "    q3 = np.quantile(data, 0.75)\n",
    "    maxi = np.max(data)\n",
    "    # also return -1.5 IQR limits\n",
    "    lower_limit = mini - 1.5 * (q3 - q1)\n",
    "    upper_limit = maxi + 1.5 * (q3 - q1)\n",
    "\n",
    "    return mini, q1, median, q3, maxi, lower_limit, upper_limit\n",
    "\n",
    "\n",
    "data = np.random.randint(10, 50, 20)  # generate 100 random numbers between 10 & 50\n",
    "print(f\"Data (sorted) {sorted(data)}\")\n",
    "print(f\"Five number summary: {five_num_summary(data)}\")"
   ]
  },
  {
   "cell_type": "code",
   "execution_count": 18,
   "metadata": {},
   "outputs": [
    {
     "name": "stdout",
     "output_type": "stream",
     "text": [
      "Weighted mean: 2.960\n",
      "Weighted mean: 2.960\n"
     ]
    }
   ],
   "source": [
    "# calculation weighted means\n",
    "cost_per_pound = np.array([3.0, 3.4, 2.8, 2.9, 3.25])\n",
    "num_pounds = np.array([1200, 500, 2750, 1000, 800])\n",
    "weighted_mean = np.dot(cost_per_pound, num_pounds) / np.sum(num_pounds)\n",
    "print(f\"Weighted mean: {weighted_mean:.3f}\")\n",
    "\n",
    "# alternatively this can be calculated simply as\n",
    "weighted_mean = np.average(cost_per_pound, weights=num_pounds)\n",
    "print(f\"Weighted mean: {weighted_mean:.3f}\")"
   ]
  },
  {
   "cell_type": "code",
   "execution_count": null,
   "metadata": {},
   "outputs": [],
   "source": []
  },
  {
   "cell_type": "code",
   "execution_count": null,
   "metadata": {},
   "outputs": [],
   "source": []
  },
  {
   "cell_type": "code",
   "execution_count": null,
   "metadata": {},
   "outputs": [],
   "source": []
  },
  {
   "cell_type": "code",
   "execution_count": null,
   "metadata": {},
   "outputs": [],
   "source": []
  },
  {
   "cell_type": "code",
   "execution_count": null,
   "metadata": {},
   "outputs": [],
   "source": []
  },
  {
   "cell_type": "code",
   "execution_count": null,
   "metadata": {},
   "outputs": [],
   "source": []
  },
  {
   "cell_type": "code",
   "execution_count": null,
   "metadata": {},
   "outputs": [],
   "source": []
  },
  {
   "cell_type": "code",
   "execution_count": null,
   "metadata": {},
   "outputs": [],
   "source": []
  }
 ],
 "metadata": {
  "kernelspec": {
   "display_name": "Python 3",
   "language": "python",
   "name": "python3"
  },
  "language_info": {
   "codemirror_mode": {
    "name": "ipython",
    "version": 3
   },
   "file_extension": ".py",
   "mimetype": "text/x-python",
   "name": "python",
   "nbconvert_exporter": "python",
   "pygments_lexer": "ipython3",
   "version": "3.9.0"
  },
  "orig_nbformat": 4,
  "vscode": {
   "interpreter": {
    "hash": "ecc02ce5e6977bb99cd707e09baad61c63a36bcbb47f88a7e8365a0289b10cbe"
   }
  }
 },
 "nbformat": 4,
 "nbformat_minor": 2
}
