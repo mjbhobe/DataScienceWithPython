{
 "cells": [
  {
   "cell_type": "code",
   "execution_count": 2,
   "metadata": {},
   "outputs": [],
   "source": [
    "import os, random\n",
    "import pathlib\n",
    "\n",
    "import numpy as np\n",
    "import pandas as pd\n",
    "import scipy.stats as stats\n",
    "import matplotlib.pyplot as plt\n",
    "import seaborn as sns\n",
    "\n",
    "SEED = 42\n",
    "random.seed(SEED)\n",
    "np.random.seed(SEED)\n",
    "\n",
    "sns.set(style=\"whitegrid\", context=\"notebook\", font_scale=1.0)\n",
    "# some tweaks for Numpy formatting - floats with 3 decimals & \n",
    "# don't convert small floats itno scientific notation\n",
    "np.set_printoptions(precision=3, suppress=True)\n",
    "%matplotlib inline"
   ]
  },
  {
   "attachments": {},
   "cell_type": "markdown",
   "metadata": {},
   "source": [
    "## Measures of Central Tendency"
   ]
  },
  {
   "cell_type": "code",
   "execution_count": 2,
   "metadata": {},
   "outputs": [
    {
     "name": "stdout",
     "output_type": "stream",
     "text": [
      "Data sample (first 20): [48 38 24 17 30 48 28 32 20 20 33 45 49 33 12 31 11 33 39 47]\n",
      "Mean: 29.575\n"
     ]
    }
   ],
   "source": [
    "# calculating mean of a dataset\n",
    "data = np.random.randint(10, 50, 200)  # generate 100 random numbers between 10 & 50\n",
    "print(f\"Data sample (first 20): {data[:20]}\")\n",
    "# calculate the mean\n",
    "mu = np.mean(data)\n",
    "print(f\"Mean: {mu:.3f}\")"
   ]
  },
  {
   "cell_type": "code",
   "execution_count": 3,
   "metadata": {},
   "outputs": [
    {
     "name": "stdout",
     "output_type": "stream",
     "text": [
      "Trimmed mean: 29.637\n"
     ]
    }
   ],
   "source": [
    "# calculate the trimmed mean of above dataset trimming\n",
    "# top & bottom 10% of the scored\n",
    "tmu = stats.trim_mean(data, 0.10)\n",
    "print(f\"Trimmed mean: {tmu:.3f}\")"
   ]
  },
  {
   "cell_type": "code",
   "execution_count": 4,
   "metadata": {},
   "outputs": [
    {
     "name": "stdout",
     "output_type": "stream",
     "text": [
      "Median: 31.000\n"
     ]
    }
   ],
   "source": [
    "# calculate the median of the dataset\n",
    "med = np.median(data)\n",
    "print(f\"Median: {med:.3f}\")"
   ]
  },
  {
   "cell_type": "code",
   "execution_count": 5,
   "metadata": {},
   "outputs": [
    {
     "name": "stdout",
     "output_type": "stream",
     "text": [
      "Mode: ModeResult(mode=33, count=10)\n"
     ]
    }
   ],
   "source": [
    "# calculate mode of the data\n",
    "mode = stats.mode(data, keepdims=False)\n",
    "print(f\"Mode: {mode}\")"
   ]
  },
  {
   "cell_type": "code",
   "execution_count": 6,
   "metadata": {},
   "outputs": [
    {
     "name": "stdout",
     "output_type": "stream",
     "text": [
      "35th percentile: 23.000\n"
     ]
    }
   ],
   "source": [
    "# calculate the 35th percentile\n",
    "p35 = np.percentile(data, 35)\n",
    "print(f\"35th percentile: {p35:.3f}\")"
   ]
  },
  {
   "cell_type": "code",
   "execution_count": 7,
   "metadata": {},
   "outputs": [
    {
     "name": "stdout",
     "output_type": "stream",
     "text": [
      "Exam scores: [51 52 57 60 60 64 68 70 71 72 73 73 73 78 85 88 88 89 92 93]\n",
      "With my score of 75, I am at 0.65 in the class.\n"
     ]
    }
   ],
   "source": [
    "# calculate percentile of a given score\n",
    "np.random.seed(SEED)\n",
    "scores = np.random.randint(50, 100, 20)  # 20 random scores between 50 & 100\n",
    "scores.sort()\n",
    "print(f\"Exam scores: {scores}\")\n",
    "myscore = 75\n",
    "ptile = len(scores[np.where(scores < myscore)]) / len(scores)\n",
    "print(f\"With my score of {myscore}, I am at {ptile:.2f} in the class.\")"
   ]
  },
  {
   "cell_type": "code",
   "execution_count": 8,
   "metadata": {},
   "outputs": [
    {
     "name": "stdout",
     "output_type": "stream",
     "text": [
      "Data: [48 38 24 17 30 48 28 32 20 20 33 45 49 33 12 31 11 33 39 47]\n",
      "Q1: 23.00, Q3: 40.50, IQR: 17.50\n"
     ]
    }
   ],
   "source": [
    "# calculate percentiles\n",
    "np.random.seed(SEED)\n",
    "data2 = np.random.randint(10, 50, 20)  # 20 random numbers between 10 & 50\n",
    "print(f\"Data: {data2}\")\n",
    "q1, q3 = np.percentile(data2, 25), np.percentile(data2, 75)\n",
    "print(f\"Q1: {q1:.2f}, Q3: {q3:.2f}, IQR: {q3-q1:.2f}\")"
   ]
  },
  {
   "attachments": {},
   "cell_type": "markdown",
   "metadata": {},
   "source": [
    "## Measures of Dispersion"
   ]
  },
  {
   "cell_type": "code",
   "execution_count": 9,
   "metadata": {},
   "outputs": [
    {
     "name": "stdout",
     "output_type": "stream",
     "text": [
      "Data: [48 38 24 17 30 48 28 32 20 20 33 45 49 33 12 31 11 33 39 47]\n",
      "Variance: 136.090 - Std Dev: 11.666\n"
     ]
    }
   ],
   "source": [
    "# calculate standard deviation\n",
    "np.random.seed(SEED)\n",
    "data2 = np.random.randint(10, 50, 20)  # 20 random numbers between 10 & 50\n",
    "print(f\"Data: {data2}\")\n",
    "var, std = np.var(data2), np.std(data2)\n",
    "print(f\"Variance: {var:.3f} - Std Dev: {std:.3f}\")"
   ]
  },
  {
   "cell_type": "code",
   "execution_count": 10,
   "metadata": {},
   "outputs": [
    {
     "name": "stdout",
     "output_type": "stream",
     "text": [
      "Data: [ 51 113 109  70  82 125 107  71 138  98 140 108  91 141 109 129  64 111\n",
      " 111  96]\n",
      "Mean: 98.905 - Median: 98.000 - Skew: 0.042\n"
     ]
    },
    {
     "data": {
      "text/plain": [
       "<Axes: ylabel='Count'>"
      ]
     },
     "execution_count": 10,
     "metadata": {},
     "output_type": "execute_result"
    },
    {
     "data": {
      "image/png": "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",
      "text/plain": [
       "<Figure size 640x480 with 1 Axes>"
      ]
     },
     "metadata": {},
     "output_type": "display_data"
    }
   ],
   "source": [
    "# calculate skew\n",
    "np.random.seed(SEED)\n",
    "data2 = np.random.randint(50, 150, 5000)  # 100 random numbers between 10 & 50\n",
    "print(f\"Data: {data2[:20]}\")\n",
    "mu, med, skew = np.mean(data2), np.median(data2), stats.skew(data2)\n",
    "print(f\"Mean: {mu:.3f} - Median: {med:.3f} - Skew: {skew:.3f}\")\n",
    "sns.histplot(data2, kde=True)"
<<<<<<< HEAD
   ]
  },
  {
   "cell_type": "markdown",
   "metadata": {},
   "source": [
    "### The 5 Number Summary"
=======
>>>>>>> 05d4a8991190aa112514817ca504e807fadbd293
   ]
  },
  {
   "cell_type": "code",
   "execution_count": 12,
   "metadata": {},
   "outputs": [
    {
     "name": "stdout",
     "output_type": "stream",
     "text": [
      "Min: 3310.000 - Q1: 3472.500 - median: 3505.000000 - Q3: 3575.000 - Max: 3925.000\n",
      "IQR: 102.500\n",
      "Lower fence: 3318.750 - Upper fence: 3728.750\n"
     ]
    }
   ],
   "source": [
    "salaries = np.array(\n",
    "    [3450, 3550, 3650, 3480, 3355, 3310, 3490, 3730, 3540, 3925, 3520, 3480]\n",
    ")\n",
    "# calculate the 5 number summary\n",
    "print(\n",
    "    f\"Min: {np.min(salaries):.3f} - Q1: {np.percentile(salaries, 25):.3f} - median: {np.percentile(salaries, 50):3f}\"\n",
    "    + f\" - Q3: {np.percentile(salaries, 75):.3f} - Max: {np.max(salaries):.3f}\"\n",
    ")\n",
    "Q3, Q1 = np.percentile(salaries, 75), np.percentile(salaries, 25)\n",
    "IQR = Q3 - Q1\n",
    "print(f\"IQR: {Q3-Q1:.3f}\")\n",
    "print(f\"Lower fence: {Q1 - 1.5 * IQR:.3f} - Upper fence: {Q3 + 1.5 * IQR:.3f}\")"
   ]
  }
 ],
 "metadata": {
  "kernelspec": {
   "display_name": "Python 3",
   "language": "python",
   "name": "python3"
  },
  "language_info": {
   "codemirror_mode": {
    "name": "ipython",
    "version": 3
   },
   "file_extension": ".py",
   "mimetype": "text/x-python",
   "name": "python",
   "nbconvert_exporter": "python",
   "pygments_lexer": "ipython3",
<<<<<<< HEAD
   "version": "3.10.13"
=======
   "version": "3.9.0"
>>>>>>> 05d4a8991190aa112514817ca504e807fadbd293
  },
  "orig_nbformat": 4
 },
 "nbformat": 4,
 "nbformat_minor": 2
}
