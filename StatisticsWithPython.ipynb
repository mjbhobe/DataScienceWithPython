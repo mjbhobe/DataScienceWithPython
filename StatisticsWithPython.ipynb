{
 "cells": [
  {
   "cell_type": "code",
   "execution_count": 2,
   "metadata": {},
   "outputs": [],
   "source": [
    "import os, random\n",
    "import pathlib\n",
    "\n",
    "import numpy as np\n",
    "import pandas as pd\n",
    "import scipy.stats as stats\n",
    "import matplotlib.pyplot as plt\n",
    "import seaborn as sns\n",
    "\n",
    "SEED = 42\n",
    "random.seed(SEED)\n",
    "np.random.seed(SEED)\n",
    "\n",
    "sns.set(style=\"whitegrid\", context=\"notebook\", font_scale=1.0)\n",
    "# some tweaks for Numpy formatting - floats with 3 decimals & \n",
    "# don't convert small floats itno scientific notation\n",
    "np.set_printoptions(precision=3, suppress=True)\n",
    "%matplotlib inline"
   ]
  },
  {
   "attachments": {},
   "cell_type": "markdown",
   "metadata": {},
   "source": [
    "## Measures of Central Tendency"
   ]
  },
  {
   "cell_type": "code",
   "execution_count": 2,
   "metadata": {},
   "outputs": [
    {
     "name": "stdout",
     "output_type": "stream",
     "text": [
      "Data sample (first 20): [48 38 24 17 30 48 28 32 20 20 33 45 49 33 12 31 11 33 39 47]\n",
      "Mean: 29.575\n"
     ]
    }
   ],
   "source": [
    "# calculating mean of a dataset\n",
    "data = np.random.randint(10, 50, 200)  # generate 100 random numbers between 10 & 50\n",
    "print(f\"Data sample (first 20): {data[:20]}\")\n",
    "# calculate the mean\n",
    "mu = np.mean(data)\n",
    "print(f\"Mean: {mu:.3f}\")"
   ]
  },
  {
   "cell_type": "code",
   "execution_count": 3,
   "metadata": {},
   "outputs": [
    {
     "name": "stdout",
     "output_type": "stream",
     "text": [
      "Trimmed mean: 29.637\n"
     ]
    }
   ],
   "source": [
    "# calculate the trimmed mean of above dataset trimming\n",
    "# top & bottom 10% of the scored\n",
    "tmu = stats.trim_mean(data, 0.10)\n",
    "print(f\"Trimmed mean: {tmu:.3f}\")"
   ]
  },
  {
   "cell_type": "code",
   "execution_count": 4,
   "metadata": {},
   "outputs": [
    {
     "name": "stdout",
     "output_type": "stream",
     "text": [
      "Median: 31.000\n"
     ]
    }
   ],
   "source": [
    "# calculate the median of the dataset\n",
    "med = np.median(data)\n",
    "print(f\"Median: {med:.3f}\")"
   ]
  },
  {
   "cell_type": "code",
   "execution_count": 5,
   "metadata": {},
   "outputs": [
    {
     "name": "stdout",
     "output_type": "stream",
     "text": [
      "Mode: ModeResult(mode=33, count=10)\n"
     ]
    }
   ],
   "source": [
    "# calculate mode of the data\n",
    "mode = stats.mode(data, keepdims=False)\n",
    "print(f\"Mode: {mode}\")"
   ]
  },
  {
   "cell_type": "code",
   "execution_count": 6,
   "metadata": {},
   "outputs": [
    {
     "name": "stdout",
     "output_type": "stream",
     "text": [
      "35th percentile: 23.000\n"
     ]
    }
   ],
   "source": [
    "# calculate the 35th percentile\n",
    "p35 = np.percentile(data, 35)\n",
    "print(f\"35th percentile: {p35:.3f}\")"
   ]
  },
  {
   "cell_type": "code",
   "execution_count": 7,
   "metadata": {},
   "outputs": [
    {
     "name": "stdout",
     "output_type": "stream",
     "text": [
      "Exam scores: [51 52 57 60 60 64 68 70 71 72 73 73 73 78 85 88 88 89 92 93]\n",
      "With my score of 75, I am at 0.65 in the class.\n"
     ]
    }
   ],
   "source": [
    "# calculate percentile of a given score\n",
    "np.random.seed(SEED)\n",
    "scores = np.random.randint(50, 100, 20)  # 20 random scores between 50 & 100\n",
    "scores.sort()\n",
    "print(f\"Exam scores: {scores}\")\n",
    "myscore = 75\n",
    "ptile = len(scores[np.where(scores < myscore)]) / len(scores)\n",
    "print(f\"With my score of {myscore}, I am at {ptile:.2f} in the class.\")"
   ]
  },
  {
   "cell_type": "code",
   "execution_count": 8,
   "metadata": {},
   "outputs": [
    {
     "name": "stdout",
     "output_type": "stream",
     "text": [
      "Data: [48 38 24 17 30 48 28 32 20 20 33 45 49 33 12 31 11 33 39 47]\n",
      "Q1: 23.00, Q3: 40.50, IQR: 17.50\n"
     ]
    }
   ],
   "source": [
    "# calculate percentiles\n",
    "np.random.seed(SEED)\n",
    "data2 = np.random.randint(10, 50, 20)  # 20 random numbers between 10 & 50\n",
    "print(f\"Data: {data2}\")\n",
    "q1, q3 = np.percentile(data2, 25), np.percentile(data2, 75)\n",
    "print(f\"Q1: {q1:.2f}, Q3: {q3:.2f}, IQR: {q3-q1:.2f}\")"
   ]
  },
  {
   "attachments": {},
   "cell_type": "markdown",
   "metadata": {},
   "source": [
    "## Measures of Dispersion"
   ]
  },
  {
   "cell_type": "code",
   "execution_count": 9,
   "metadata": {},
   "outputs": [
    {
     "name": "stdout",
     "output_type": "stream",
     "text": [
      "Data: [48 38 24 17 30 48 28 32 20 20 33 45 49 33 12 31 11 33 39 47]\n",
      "Variance: 136.090 - Std Dev: 11.666\n"
     ]
    }
   ],
   "source": [
    "# calculate standard deviation\n",
    "np.random.seed(SEED)\n",
    "data2 = np.random.randint(10, 50, 20)  # 20 random numbers between 10 & 50\n",
    "print(f\"Data: {data2}\")\n",
    "var, std = np.var(data2), np.std(data2)\n",
    "print(f\"Variance: {var:.3f} - Std Dev: {std:.3f}\")"
   ]
  },
  {
   "cell_type": "code",
   "execution_count": 19,
   "metadata": {},
   "outputs": [
    {
     "name": "stdout",
     "output_type": "stream",
     "text": [
      "Data: [130 105  69  90  95  61 119  66  68  75  97 101 145 119 104 149 124  82\n",
      " 111 137]\n",
      "Mean: 99.919 - Median: 101.000 - Skew: -0.019\n"
     ]
    },
    {
     "data": {
      "image/png": "[encoded data removed]",
      "text/plain": [
       "<Figure size 640x480 with 1 Axes>"
      ]
     },
     "metadata": {},
     "output_type": "display_data"
    }
   ],
   "source": [
    "# calculate skew\n",
    "np.random.seed(SEED)\n",
    "data2 = np.random.randint(50, 150, 5000)  # 100 random numbers between 10 & 50\n",
    "print(f\"Data: {data2[:20]}\")\n",
    "mu, med, skew = np.mean(data2), np.median(data2), stats.skew(data2)\n",
    "print(f\"Mean: {mu:.3f} - Median: {med:.3f} - Skew: {skew:.3f}\")\n",
    "sns.histplot(data2, kde=True)"
   ]
  },
  {
   "cell_type": "code",
   "execution_count": null,
   "metadata": {},
   "outputs": [],
   "source": []
  }
 ],
 "metadata": {
  "kernelspec": {
   "display_name": "Python 3",
   "language": "python",
   "name": "python3"
  },
  "language_info": {
   "codemirror_mode": {
    "name": "ipython",
    "version": 3
   },
   "file_extension": ".py",
   "mimetype": "text/x-python",
   "name": "python",
   "nbconvert_exporter": "python",
   "pygments_lexer": "ipython3",
   "version": "3.9.0"
  },
  "orig_nbformat": 4
 },
 "nbformat": 4,
 "nbformat_minor": 2
}
